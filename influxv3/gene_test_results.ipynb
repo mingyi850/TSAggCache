{
 "cells": [
  {
   "cell_type": "code",
   "execution_count": 109,
   "metadata": {},
   "outputs": [],
   "source": [
    "\n",
    "import os, time\n",
    "from influxdb_client_3 import InfluxDBClient3, Point\n",
    "import pandas as pd\n",
    "from queryDSL import InfluxQueryBuilder, QueryAggregation, QueryFilter\n",
    "import requests\n",
    "import json\n",
    "\n",
    "import matplotlib.pyplot as plt"
   ]
  },
  {
   "cell_type": "code",
   "execution_count": 110,
   "metadata": {},
   "outputs": [],
   "source": [
    "import configparser\n",
    "\n",
    "config = configparser.ConfigParser()\n",
    "config.read('cacheConfig.ini')\n",
    "\n",
    "influxConfig = config['influx']\n",
    "token = influxConfig['token']\n",
    "org = influxConfig['org']\n",
    "host = influxConfig['host']\n",
    "\n",
    "client = InfluxDBClient3(host=host, token=token, org=org)"
   ]
  },
  {
   "cell_type": "code",
   "execution_count": 111,
   "metadata": {},
   "outputs": [
    {
     "name": "stdout",
     "output_type": "stream",
     "text": [
      "1.71435011e+18\n",
      "1.71435005e+18\n"
     ]
    }
   ],
   "source": [
    "currenttime = int(time.time())\n",
    "previoustime = int(currenttime - 60)\n",
    "\n",
    "# Convert to nanoseconds\n",
    "currenttime_ns = currenttime * 1e9\n",
    "previoustime_ns = previoustime * 1e9\n",
    "print(currenttime_ns)\n",
    "print(previoustime_ns)"
   ]
  },
  {
   "cell_type": "markdown",
   "metadata": {},
   "source": [
    "- Build Queries\n",
    "- Test runtime speed of queries against Cache for partial cache hits\n",
    "- plot performance results\n",
    "- correctness tests\n",
    "\n",
    "## We want to show a few scenarios\n",
    "1. Repeated queries with similar time ranges will use the cache and be faster\n",
    "2. Queries asking for a different subset of measurements from the same table will use the cache and be faster\n",
    "3. Issuing a query with a subset of group keys than a previous query will \n",
    "4. Issuing a query with a larger aggregation window than before will use the cache and be faster\n",
    "\n",
    "\n",
    "My tests\n",
    "- build out a few queries\n",
    "- turn into json\n",
    "- track time \n",
    "- use influx client to take actual direct query\n",
    "- get cached version\n",
    "- Use ipynb to keep track of results\n"
   ]
  },
  {
   "cell_type": "code",
   "execution_count": 77,
   "metadata": {},
   "outputs": [],
   "source": [
    "'''\n",
    "HOW TO WRITE TEST\n",
    "- Only have to interact with testServer.py\n",
    "- assume that testServer will return you a json version of a data frame\n",
    "- try to learn how InfluxQueryBuilder maps out to a string\n",
    "- buildInfluxQlStrI()\n",
    "- buildJson()\n",
    "- Track time difference\n",
    "- plot the results\n",
    "'''\n",
    "\n",
    "# Repeated queries with similar time ranges will use the cache and be faster\n",
    "query = \"\"\"SELECT mean(value)\n",
    "FROM \"cpu_usage\"\n",
    "WHERE time > now() - 24h\n",
    "GROUP BY time(1m), platform, host\n",
    "\"\"\"\n",
    "\n",
    "# Queries asking for a different subset of measurements from the same table will use the cache and be faster\n",
    "query2 = f\"\"\"\n",
    "SELECT mean(value)\n",
    "FROM cpu_usage\n",
    "WHERE platform = 'mac_os' OR platform = 'windows'\n",
    "AND time < {format(currenttime_ns, '.0f')} AND time > {format(previoustime_ns, '.0f')}\n",
    "GROUP BY time(5s),\n",
    "host,platform\n",
    "\n",
    "\"\"\"\n",
    "'''\n",
    "\"\"\"SELECT min(value), mean(value)\n",
    "FROM \"cpu_usage\"\n",
    "WHERE time > now() - 24h\n",
    "GROUP BY time(1m), platform, host\n",
    "\"\"\"\n",
    "'''\n",
    "\n",
    "# Issuing a query with a subset of group keys than a previous query will use the cache and be faster\n",
    "query3 = \"\"\"SELECT max(value)\n",
    "FROM \"cpu_usage\"\n",
    "WHERE time > now() - 24h\n",
    "GROUP BY time(1m), platform\n",
    "\"\"\"\n",
    "\n",
    "# Issuing a query with a larger aggregation window than before will use the cache and be faster\n",
    "query4 = \"\"\"SELECT mean(value)\n",
    "FROM \"cpu_usage\"\n",
    "WHERE time > now() - 48h\n",
    "GROUP BY time(5m), platform, host\n",
    "\"\"\"\n"
   ]
  },
  {
   "cell_type": "code",
   "execution_count": 128,
   "metadata": {},
   "outputs": [],
   "source": [
    "# BUILD QUERIES --> JSON\n",
    "\n",
    "# Query 1\n",
    "influxBuilder = (InfluxQueryBuilder()\n",
    "               .withBucket(\"Test\")\n",
    "               .withMeasurements([\"value\"])\n",
    "               .withTable(\"cpu_usage\")\n",
    "               .withFilter(QueryFilter(\"platform\", \"mac_os\").OR(QueryFilter(\"platform\", \"windows\")))\n",
    "               .withAggregate(QueryAggregation(\"10m\", \"mean\", False))\n",
    "               .withRelativeRange('30m', None)\n",
    "               .withGroupKeys([\"host\", \"platform\"])\n",
    "       )\n",
    "\n",
    "influxBuilderReGrouped = (InfluxQueryBuilder()\n",
    "               .withBucket(\"Test\")\n",
    "               .withMeasurements([\"value\"])\n",
    "               .withTable(\"cpu_usage\")\n",
    "               .withFilter(QueryFilter(\"platform\", \"mac_os\").OR(QueryFilter(\"platform\", \"windows\")))\n",
    "               .withAggregate(QueryAggregation(\"20m\", \"mean\", False))\n",
    "               .withRelativeRange('30m', None)\n",
    "               .withGroupKeys([\"platform\"])\n",
    "       )\n",
    "\n",
    "queryStr = influxBuilder.buildInfluxQlStr()\n",
    "queryJson = influxBuilder.buildJson()\n",
    "\n",
    "# Query 2 -  Queries asking for a different subset of measurements from the same table will use the cache and be faster\n",
    "influxBuilder2 = (InfluxQueryBuilder()\n",
    "               .withBucket(\"Test\")\n",
    "               .withMeasurements([\"value\"])\n",
    "               .withTable(\"cpu_usage\")\n",
    "               .withFilter(QueryFilter(\"platform\", \"mac_os\"))\n",
    "               .withAggregate(QueryAggregation(\"20m\", \"max\", False))\n",
    "               .withRelativeRange('30m', None)\n",
    "               .withGroupKeys([\"host\", \"platform\"])\n",
    "       )\n",
    "\n",
    "queryStr2 = influxBuilder2.buildInfluxQlStr()\n",
    "queryJson2 = influxBuilder2.buildJson()\n"
   ]
  },
  {
   "cell_type": "code",
   "execution_count": 131,
   "metadata": {},
   "outputs": [
    {
     "name": "stdout",
     "output_type": "stream",
     "text": [
      "Running Query 2: SELECT max(value)\n",
      "FROM cpu_usage\n",
      "WHERE platform = 'mac_os'\n",
      "AND time > 1714348815000000000 AND time < 1714350615000000000\n",
      "GROUP BY time(20m), host,platform\n",
      "\n",
      "  iox::measurement                time   host platform         max\n",
      "0        cpu_usage 2024-04-29 00:00:00  host1   mac_os  100.000000\n",
      "1        cpu_usage 2024-04-29 00:20:00  host1   mac_os   42.900000\n",
      "2        cpu_usage 2024-04-29 00:00:00  host2   mac_os  108.364618\n",
      "3        cpu_usage 2024-04-29 00:20:00  host2   mac_os  113.136458\n",
      "<Response [200]>\n",
      "            time iox::measurement   host platform   max_value\n",
      "0  1714347600000        cpu_usage  host1   mac_os   30.600000\n",
      "1  1714348800000        cpu_usage  host1   mac_os  100.000000\n",
      "2  1714350000000        cpu_usage  host1   mac_os   42.900000\n",
      "3  1714347600000        cpu_usage  host2   mac_os   19.358491\n",
      "4  1714348800000        cpu_usage  host2   mac_os  116.940278\n",
      "5  1714350000000        cpu_usage  host2   mac_os  113.136458\n",
      "Raw query took 0.14 seconds\n",
      "Cache query took 0.04 seconds\n"
     ]
    },
    {
     "name": "stderr",
     "output_type": "stream",
     "text": [
      "/var/folders/28/6m241wg91ls0cqk0nmt_s2880000gn/T/ipykernel_94083/2433937836.py:17: FutureWarning: Passing literal json to 'read_json' is deprecated and will be removed in a future version. To read from a literal string, wrap it in a 'StringIO' object.\n",
      "  cachedTableDf = pd.read_json(json.dumps(cachedTableJson), orient='records')\n"
     ]
    }
   ],
   "source": [
    "cacheUrlJson = \"http://127.0.0.1:5000/api/query\"\n",
    "requests.post(\"http://localhost:5000/api/reset\")\n",
    "print(\"Running Query 2: %s\" % queryStr2)\n",
    "startTime = time.time()\n",
    "table = client.query(query=queryStr2, database=\"Test\", language=\"influxql\", mode='pandas')\n",
    "print(table)\n",
    "rawLatency = time.time() - startTime\n",
    "\n",
    "# Execute via cache service\n",
    "startTime = time.time()\n",
    "cachedTableResp = requests.post(cacheUrlJson, json=queryJson2)\n",
    "print(cachedTableResp)\n",
    "\n",
    "cacheLatency = time.time() - startTime\n",
    "\n",
    "cachedTableJson = cachedTableResp.json()\n",
    "cachedTableDf = pd.read_json(json.dumps(cachedTableJson), orient='records')\n",
    "\n",
    "print(cachedTableDf)\n",
    "\n",
    "print(\"Raw query took %.2f seconds\" % rawLatency)\n",
    "print(\"Cache query took %.2f seconds\" % cacheLatency)"
   ]
  },
  {
   "cell_type": "code",
   "execution_count": 103,
   "metadata": {},
   "outputs": [
    {
     "name": "stdout",
     "output_type": "stream",
     "text": [
      "Running query 1 SELECT mean(value)\n",
      "FROM cpu_usage\n",
      "WHERE platform = 'mac_os' OR platform = 'windows'\n",
      "AND time > 1714348003000000000 AND time < 1714349803000000000\n",
      "GROUP BY time(10m), host,platform\n",
      "\n",
      "   iox::measurement                time   host platform       mean\n",
      "0         cpu_usage 2024-04-28 23:40:00  host1   mac_os        NaN\n",
      "1         cpu_usage 2024-04-28 23:50:00  host1   mac_os  26.859184\n",
      "2         cpu_usage 2024-04-29 00:00:00  host1   mac_os  25.101866\n",
      "3         cpu_usage 2024-04-29 00:10:00  host1   mac_os  25.003226\n",
      "4         cpu_usage 2024-04-28 23:40:00  host1  windows        NaN\n",
      "5         cpu_usage 2024-04-28 23:50:00  host1  windows   3.202787\n",
      "6         cpu_usage 2024-04-29 00:00:00  host1  windows   4.301744\n",
      "7         cpu_usage 2024-04-29 00:10:00  host1  windows  -0.338423\n",
      "8         cpu_usage 2024-04-28 23:40:00  host2   mac_os        NaN\n",
      "9         cpu_usage 2024-04-28 23:50:00  host2   mac_os   3.875965\n",
      "10        cpu_usage 2024-04-29 00:00:00  host2   mac_os   2.408611\n",
      "11        cpu_usage 2024-04-29 00:10:00  host2   mac_os  -0.755680\n",
      "12        cpu_usage 2024-04-28 23:40:00  host2  windows        NaN\n",
      "13        cpu_usage 2024-04-28 23:50:00  host2  windows  12.395408\n",
      "14        cpu_usage 2024-04-29 00:00:00  host2  windows  13.328826\n",
      "15        cpu_usage 2024-04-29 00:10:00  host2  windows  10.036551\n",
      "{'bucket': 'Test', 'range': {'start': 1714348003, 'end': 1714349803}, 'relativeRange': {'fr': '30m', 'to': None}, 'filters': [{'filter': [{'key': 'platform', 'value': 'mac_os', 'type': 'raw'}, {'key': 'platform', 'value': 'windows', 'type': 'raw'}], 'type': 'or'}], 'yield': '', 'measurements': ['value'], 'table': 'cpu_usage', 'groupKeys': ['host', 'platform'], 'aggregate': {'timeWindow': '10m', 'aggFunc': 'mean', 'createEmpty': False}}\n",
      "<Response [200]>\n",
      "   iox::measurement           time   host platform  mean_value\n",
      "0         cpu_usage  1714347000000  host1   mac_os         NaN\n",
      "1         cpu_usage  1714347600000  host1   mac_os         NaN\n",
      "2         cpu_usage  1714348200000  host1   mac_os   27.859375\n",
      "3         cpu_usage  1714348200000  host1   mac_os   24.976471\n",
      "4         cpu_usage  1714348800000  host1   mac_os   25.101866\n",
      "5         cpu_usage  1714347000000  host1  windows         NaN\n",
      "6         cpu_usage  1714347600000  host1  windows         NaN\n",
      "7         cpu_usage  1714348200000  host1  windows   -0.171497\n",
      "8         cpu_usage  1714348200000  host1  windows    9.554378\n",
      "9         cpu_usage  1714348800000  host1  windows    4.301744\n",
      "10        cpu_usage  1714347000000  host2   mac_os         NaN\n",
      "11        cpu_usage  1714347600000  host2   mac_os         NaN\n",
      "12        cpu_usage  1714348200000  host2   mac_os    6.122157\n",
      "13        cpu_usage  1714348200000  host2   mac_os   -0.352163\n",
      "14        cpu_usage  1714348800000  host2   mac_os    2.408611\n",
      "15        cpu_usage  1714347000000  host2  windows         NaN\n",
      "16        cpu_usage  1714347600000  host2  windows         NaN\n",
      "17        cpu_usage  1714348200000  host2  windows    8.449772\n",
      "18        cpu_usage  1714348200000  host2  windows   19.822489\n",
      "19        cpu_usage  1714348800000  host2  windows   13.328826\n",
      "Raw query took 0.09 seconds\n",
      "Cache query took 0.01 seconds\n"
     ]
    },
    {
     "name": "stderr",
     "output_type": "stream",
     "text": [
      "/var/folders/28/6m241wg91ls0cqk0nmt_s2880000gn/T/ipykernel_94083/166781479.py:20: FutureWarning: Passing literal json to 'read_json' is deprecated and will be removed in a future version. To read from a literal string, wrap it in a 'StringIO' object.\n",
      "  cachedTableDf = pd.read_json(json.dumps(cachedTableJson), orient='records')\n"
     ]
    }
   ],
   "source": [
    "requests.post(\"http://localhost:5000/api/reset\")\n",
    "print(\"Running query 1 %s\" % queryStr)\n",
    "# Execute the query via client\n",
    "startTime = time.time()\n",
    "table2 = client.query(query=queryStr, database=\"Test\", language=\"influxql\", mode='pandas')\n",
    "print(table2)\n",
    "rawLatency = time.time() - startTime\n",
    "\n",
    "# Execute the query via cache service\n",
    "startTime = time.time()\n",
    "\n",
    "print(queryJson)\n",
    "cachedTableResp = requests.post(cacheUrlJson, json=queryJson)\n",
    "print(cachedTableResp)\n",
    "\n",
    "cacheLatency = time.time() - startTime\n",
    "\n",
    "cachedTableJson = cachedTableResp.json()\n",
    "cachedTableDf = pd.read_json(json.dumps(cachedTableJson), orient='records')\n",
    "\n",
    "print(cachedTableDf)\n",
    "\n",
    "print(\"Raw query took %.2f seconds\" % rawLatency)\n",
    "print(\"Cache query took %.2f seconds\" % cacheLatency)\n"
   ]
  },
  {
   "cell_type": "code",
   "execution_count": 104,
   "metadata": {},
   "outputs": [
    {
     "name": "stdout",
     "output_type": "stream",
     "text": [
      "Without cache: avg 0.08613533973693847 seconds\n",
      "With cache: avg 0.017164397239685058 seconds\n"
     ]
    }
   ],
   "source": [
    "# test multiple times\n",
    "runs = 20\n",
    "delay = 1\n",
    "rawLatencies = []\n",
    "cachedLatecies = []\n",
    "cacheUrlJson = \"http://127.0.0.1:5000/api/query\"\n",
    "requests.post(\"http://localhost:5000/api/reset\")\n",
    "\n",
    "for i in range(runs):\n",
    "    startTime = time.time()\n",
    "    table = client.query(query=queryStr, database=\"Test\", language=\"influxql\", mode='pandas')\n",
    "    rawLatency = time.time() - startTime\n",
    "    rawLatencies.append(rawLatency)\n",
    "    # print(\"Raw Latency: %s\" % rawLatency)\n",
    "\n",
    "    startTime = time.time()\n",
    "    cachedTableResp = requests.post(cacheUrlJson, json=queryJson)\n",
    "    cachedLatency = time.time() - startTime\n",
    "    cachedLatecies.append(cachedLatency)\n",
    "    # print(\"Cached Latency: %s\" % cachedLatency)\n",
    "\n",
    "    time.sleep(delay)\n",
    "\n",
    "\n",
    "print(\"Without cache: avg\", sum(rawLatencies)/len(rawLatencies), \"seconds\")\n",
    "print(\"With cache: avg\", sum(cachedLatecies)/len(cachedLatecies), \"seconds\")"
   ]
  },
  {
   "cell_type": "code",
   "execution_count": 106,
   "metadata": {},
   "outputs": [
    {
     "data": {
      "image/png": "[encoded data removed]",
      "text/plain": [
       "<Figure size 640x480 with 1 Axes>"
      ]
     },
     "metadata": {},
     "output_type": "display_data"
    }
   ],
   "source": [
    "plt.plot(rawLatencies, label='Without Cache')\n",
    "plt.plot(cachedLatecies, label='With Cache')\n",
    "plt.xlabel('Iteration')\n",
    "plt.ylabel('Time (seconds)')\n",
    "plt.title('Performance Comparison')\n",
    "plt.legend()\n",
    "\n",
    "# Set the step for the x-axis to 1\n",
    "plt.xticks(range(len(rawLatencies)), range(len(rawLatencies)))\n",
    "plt.show()"
   ]
  },
  {
   "cell_type": "code",
   "execution_count": 107,
   "metadata": {},
   "outputs": [
    {
     "data": {
      "text/plain": [
       "Text(0.5, 1.0, 'Average Performance Comparison')"
      ]
     },
     "execution_count": 107,
     "metadata": {},
     "output_type": "execute_result"
    },
    {
     "data": {
      "image/png": "[encoded data removed]",
      "text/plain": [
       "<Figure size 640x480 with 1 Axes>"
      ]
     },
     "metadata": {},
     "output_type": "display_data"
    }
   ],
   "source": [
    "# Plot bar graph comparing the averages\n",
    "plt.bar(['Without Cache', 'With Cache'], \n",
    "    [sum(rawLatencies)/len(rawLatencies), sum(cachedLatecies)/len(cachedLatecies)], color=['blue', 'red'])\n",
    "plt.ylabel('Time (seconds)')\n",
    "plt.title('Average Performance Comparison')\n"
   ]
  },
  {
   "cell_type": "code",
   "execution_count": 108,
   "metadata": {},
   "outputs": [
    {
     "name": "stdout",
     "output_type": "stream",
     "text": [
      "Trying regrouping\n",
      "1714349874.951824\n",
      "{'bucket': 'Test', 'range': {'start': 1714348074, 'end': 1714349874}, 'relativeRange': {'fr': '30m', 'to': None}, 'filters': [{'filter': [{'key': 'platform', 'value': 'mac_os', 'type': 'raw'}, {'key': 'platform', 'value': 'windows', 'type': 'raw'}], 'type': 'or'}], 'yield': '', 'measurements': ['value'], 'table': 'cpu_usage', 'groupKeys': ['platform'], 'aggregate': {'timeWindow': '20m', 'aggFunc': 'mean', 'createEmpty': False}}\n",
      "{'time': {'0': 1714346400000, '1': 1714347600000, '2': 1714348800000, '3': 1714346400000, '4': 1714347600000, '5': 1714348800000}, 'iox::measurement': {'0': 'cpu_usage', '1': 'cpu_usage', '2': 'cpu_usage', '3': 'cpu_usage', '4': 'cpu_usage', '5': 'cpu_usage'}, 'platform': {'0': 'mac_os', '1': 'mac_os', '2': 'mac_os', '3': 'windows', '4': 'windows', '5': 'windows'}, 'mean_value': {'0': None, '1': 14.6514600119, '2': 13.7552383716, '3': None, '4': 9.4137855356, '5': 8.815285244}}\n",
      "            time iox::measurement platform  mean_value\n",
      "0  1714346400000        cpu_usage   mac_os         NaN\n",
      "1  1714347600000        cpu_usage   mac_os   14.651460\n",
      "2  1714348800000        cpu_usage   mac_os   13.755238\n",
      "3  1714346400000        cpu_usage  windows         NaN\n",
      "4  1714347600000        cpu_usage  windows    9.413786\n",
      "5  1714348800000        cpu_usage  windows    8.815285\n",
      "Regroup query took 0.13 seconds\n"
     ]
    },
    {
     "name": "stderr",
     "output_type": "stream",
     "text": [
      "/var/folders/28/6m241wg91ls0cqk0nmt_s2880000gn/T/ipykernel_94083/3867237047.py:11: FutureWarning: Passing literal json to 'read_json' is deprecated and will be removed in a future version. To read from a literal string, wrap it in a 'StringIO' object.\n",
      "  regroupedTableDf = pd.read_json(json.dumps(regroupResp), orient='records')\n"
     ]
    }
   ],
   "source": [
    "print(\"Trying regrouping\")\n",
    "regroupRequestJson = influxBuilderReGrouped.buildJson()\n",
    "startTime = time.time()\n",
    "print(startTime)\n",
    "print(regroupRequestJson)\n",
    "regroupResp = requests.post(cacheUrlJson, json=regroupRequestJson).json()\n",
    "\n",
    "print(regroupResp)\n",
    "regroupLatency = time.time() - startTime\n",
    "\n",
    "regroupedTableDf = pd.read_json(json.dumps(regroupResp), orient='records')\n",
    "print(regroupedTableDf)\n",
    "print(\"Regroup query took %.2f seconds\" % regroupLatency)\n"
   ]
  }
 ],
 "metadata": {
  "kernelspec": {
   "display_name": "Python 3",
   "language": "python",
   "name": "python3"
  },
  "language_info": {
   "codemirror_mode": {
    "name": "ipython",
    "version": 3
   },
   "file_extension": ".py",
   "mimetype": "text/x-python",
   "name": "python",
   "nbconvert_exporter": "python",
   "pygments_lexer": "ipython3",
   "version": "3.11.6"
  }
 },
 "nbformat": 4,
 "nbformat_minor": 2
}
